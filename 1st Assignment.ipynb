{
 "cells": [
  {
   "cell_type": "markdown",
   "id": "8917e520",
   "metadata": {},
   "source": [
    "# 1st Assignment"
   ]
  },
  {
   "cell_type": "markdown",
   "id": "6dbdcdb2",
   "metadata": {},
   "source": [
    "# Introduction"
   ]
  },
  {
   "cell_type": "markdown",
   "id": "e501a0fc",
   "metadata": {},
   "source": [
    "# Data Science Languages:\n",
    "Python\n",
    "R\n",
    "SQL\n",
    "Scala\n",
    "Java\n",
    "Julia\n",
    "C++"
   ]
  },
  {
   "cell_type": "markdown",
   "id": "dd197010",
   "metadata": {},
   "source": [
    "# Data Science Libraries\n",
    "Numpy Pandas Matplotlib Seaborn Scikit learn Keras Tensorflow Pytorch"
   ]
  },
  {
   "cell_type": "markdown",
   "id": "ccc53fc2",
   "metadata": {},
   "source": [
    "# Data Science Tools\n",
    "Microsoft SQL Server Oracle DB Power BI Tableau IBM Cognos Analytics"
   ]
  },
  {
   "cell_type": "markdown",
   "id": "20712814",
   "metadata": {},
   "source": [
    "# arithmetic expression examples"
   ]
  },
  {
   "cell_type": "code",
   "execution_count": null,
   "id": "cf427a83",
   "metadata": {},
   "outputs": [],
   "source": [
    "a=2\n",
    "b=3\n",
    "sum=a+b\n",
    "multiply=a*b"
   ]
  },
  {
   "cell_type": "code",
   "execution_count": null,
   "id": "389c2d4a",
   "metadata": {},
   "outputs": [],
   "source": [
    "Total_minuts=355\n",
    "\n",
    "hours=Total_minuts//60\n",
    "minuts=Total_minuts%60\n",
    "\n",
    "time=\"{}:{}\".format(hours,minuts)\n",
    "print(time)"
   ]
  },
  {
   "cell_type": "markdown",
   "id": "3b37c061",
   "metadata": {},
   "source": [
    "# objective \n",
    "is to learn about data science"
   ]
  },
  {
   "cell_type": "markdown",
   "id": "635619dd",
   "metadata": {},
   "source": [
    "# Author :Esraa Taher"
   ]
  },
  {
   "cell_type": "code",
   "execution_count": null,
   "id": "bbf8b197",
   "metadata": {},
   "outputs": [],
   "source": []
  }
 ],
 "metadata": {
  "kernelspec": {
   "display_name": "Python 3 (ipykernel)",
   "language": "python",
   "name": "python3"
  },
  "language_info": {
   "codemirror_mode": {
    "name": "ipython",
    "version": 3
   },
   "file_extension": ".py",
   "mimetype": "text/x-python",
   "name": "python",
   "nbconvert_exporter": "python",
   "pygments_lexer": "ipython3",
   "version": "3.11.4"
  }
 },
 "nbformat": 4,
 "nbformat_minor": 5
}
